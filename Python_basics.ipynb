{
  "nbformat": 4,
  "nbformat_minor": 0,
  "metadata": {
    "colab": {
      "provenance": [],
      "include_colab_link": true
    },
    "kernelspec": {
      "name": "python3",
      "display_name": "Python 3"
    },
    "language_info": {
      "name": "python"
    }
  },
  "cells": [
    {
      "cell_type": "markdown",
      "metadata": {
        "id": "view-in-github",
        "colab_type": "text"
      },
      "source": [
        "<a href=\"https://colab.research.google.com/github/isarmientot/Muestreo-con-R/blob/main/Python_basics.ipynb\" target=\"_parent\"><img src=\"https://colab.research.google.com/assets/colab-badge.svg\" alt=\"Open In Colab\"/></a>"
      ]
    },
    {
      "cell_type": "markdown",
      "source": [
        "# Conceptos Básicos de Python\n",
        "\n",
        "Temas:\n",
        " - Operaciones básicas\n",
        " - Formateo de texto\n",
        " - Flujo condicional (`if`, `while`)\n",
        " - Listas\n",
        " - Tipos de Datos\n",
        " - Mapas (diccionarios)\n",
        " - Funciones\n",
        "\n",
        "\n",
        "Otros recursos para profundizar:\n",
        " - https://www.kaggle.com/learn/python\n",
        " - Plataformas de ejercicios (ej: [LeetCode](https://leetcode.com/), aunque hay muchas otras)\n",
        " - [Curso de MITx](https://www.edx.org/learn/computer-programming/massachusetts-institute-of-technology-introduction-to-computer-science-and-programming-7)\n",
        "\n"
      ],
      "metadata": {
        "id": "5fkumSxcy8ef"
      }
    },
    {
      "cell_type": "markdown",
      "source": [
        "## Operaciones básicas y print"
      ],
      "metadata": {
        "id": "_kPEcgNJ2ivZ"
      }
    },
    {
      "cell_type": "code",
      "source": [
        "a = 5\n",
        "b = 3\n",
        "\n",
        "# Probar:\n",
        "# +,-,*,/, // , **,  %\n",
        "c = a + b\n",
        "\n",
        "print(c)"
      ],
      "metadata": {
        "id": "MDvIkJJ72h6S",
        "colab": {
          "base_uri": "https://localhost:8080/"
        },
        "outputId": "83021c72-6e80-4d61-f125-0bc776dd6981"
      },
      "execution_count": null,
      "outputs": [
        {
          "output_type": "stream",
          "name": "stdout",
          "text": [
            "8\n"
          ]
        }
      ]
    },
    {
      "cell_type": "code",
      "source": [
        "# Las variables se pueden usar a sí mismas (\"recurrencia\")\n",
        "c = c + 1\n",
        "print(c)"
      ],
      "metadata": {
        "id": "8SaOiiNxVX7l"
      },
      "execution_count": null,
      "outputs": []
    },
    {
      "cell_type": "code",
      "source": [
        "# Atajo para la recurrencia:\n",
        "c += 1\n",
        "print(c)"
      ],
      "metadata": {
        "id": "3obkR7qRVqfB"
      },
      "execution_count": null,
      "outputs": []
    },
    {
      "cell_type": "markdown",
      "source": [
        "### Flujo condicional: `if`, `else`\n",
        "\n",
        "Hacer una cosa u otra dependiendo de una condición"
      ],
      "metadata": {
        "id": "4MxN_ZOgWTmJ"
      }
    },
    {
      "cell_type": "code",
      "source": [
        "c = 1"
      ],
      "metadata": {
        "id": "ymCrYWbqXJYY"
      },
      "execution_count": null,
      "outputs": []
    },
    {
      "cell_type": "code",
      "source": [
        "if c < 10:\n",
        "  print(\"El número es menor a 10\")\n",
        "else:\n",
        "  print(\"El número es mayor o igual a 10\")\n",
        "\n",
        "c += 5"
      ],
      "metadata": {
        "id": "B2oRujQaWkUM"
      },
      "execution_count": null,
      "outputs": []
    },
    {
      "cell_type": "markdown",
      "source": [
        "### Bucles: `while`\n",
        "\n",
        "Repetir algo mientras se cumpla una condición"
      ],
      "metadata": {
        "id": "3s_l3vfyXjav"
      }
    },
    {
      "cell_type": "code",
      "source": [
        "c = 1\n",
        "while c < 10:\n",
        "  print(\"El número todavía es menor a 10\")\n",
        "  c += 3\n",
        "\n",
        "print(\"Ahora el número es mayor o igual a 10\")"
      ],
      "metadata": {
        "id": "RtEmIauGXq2P"
      },
      "execution_count": null,
      "outputs": []
    },
    {
      "cell_type": "markdown",
      "source": [
        "**Probar:** Mostrar todas las potencias de 2 hasta 1024"
      ],
      "metadata": {
        "id": "ANLIercgXb84"
      }
    },
    {
      "cell_type": "code",
      "source": [
        "# TODO: hacer un bucle que muestre 2,4,8,16,32,64,... hasta 1024"
      ],
      "metadata": {
        "id": "4IICIvrNYocA"
      },
      "execution_count": null,
      "outputs": []
    },
    {
      "cell_type": "markdown",
      "source": [
        "### Formatear el texto de salida\n",
        "\n",
        "Supongamos que queremos mostrar algún texto además de números aislados."
      ],
      "metadata": {
        "id": "G5W20XvX8Lp3"
      }
    },
    {
      "cell_type": "code",
      "source": [
        "a = 2\n",
        "b = 3\n",
        "c = a + b\n",
        "\n",
        "# Con lo que ya sabemos:\n",
        "print(\"Primer número:\")\n",
        "print(a)\n",
        "print(\"Segundo número:\")\n",
        "print(b)\n",
        "print(\"Resultado:\")\n",
        "print(c)"
      ],
      "metadata": {
        "id": "qSrDewqA85Ne"
      },
      "execution_count": null,
      "outputs": []
    },
    {
      "cell_type": "markdown",
      "source": [
        "Un montón de líneas sólo para mostrar resultados, y además genera una línea cada vez.\n",
        "\n",
        "Hay una forma mucho más práctica y flexible:"
      ],
      "metadata": {
        "id": "pa64m0TE9Dij"
      }
    },
    {
      "cell_type": "code",
      "source": [
        "c = a + b\n",
        "\n",
        "# Lo más flexible: f-strings\n",
        "print(f\"Si sumamos {a} más {b} nos da: {c}\")"
      ],
      "metadata": {
        "id": "bMCK4Eyj3URh"
      },
      "execution_count": null,
      "outputs": []
    },
    {
      "cell_type": "markdown",
      "source": [
        "Podemos poner cualquier expresión dentro de las llaves:"
      ],
      "metadata": {
        "id": "MQQz3fMigLQC"
      }
    },
    {
      "cell_type": "code",
      "source": [
        "print(f\"Si los dividimos da: {a/b}\")"
      ],
      "metadata": {
        "id": "LtF-WHKu4aAc"
      },
      "execution_count": null,
      "outputs": []
    },
    {
      "cell_type": "markdown",
      "source": [
        "¿Y si quiero mostrar sólo dos lugares después de la coma?"
      ],
      "metadata": {
        "id": "VVj1lw80-Hee"
      }
    },
    {
      "cell_type": "code",
      "source": [
        "c = a/b\n",
        "\n",
        "# Ejemplo de formato: punto flotante con dos lugares después de la coma\n",
        "print(f\"Si los dividimos da más o menos: {c:.2f}\")"
      ],
      "metadata": {
        "id": "JfzeBjjl4hDP"
      },
      "execution_count": null,
      "outputs": []
    },
    {
      "cell_type": "markdown",
      "source": [
        "Hay muchas otras formas (demasiadas!) de formatear strings en python.\n",
        "\n",
        "Aclaramos: **f-strings es la mejor**.\n",
        "\n",
        "Por ser la más nueva, hay mucha gente que no lo domina, entonces hay código escrito con las sintaxis más viejas.\n",
        "\n",
        "Estemos al tanto entonces:"
      ],
      "metadata": {
        "id": "d6b3Z5C6-UDM"
      }
    },
    {
      "cell_type": "code",
      "source": [
        "# Formas alternativas a f-strings\n",
        "\n",
        "# Ej 1\n",
        "print(\"a es: \" + str(a) + \" y b es: \" + str(b))\n",
        "\n",
        "\n",
        "# Ej 2 (probar cambiar la precisión)\n",
        "print(\"a es: %f y b es: %f \" % (a, b))\n",
        "\n",
        "\n",
        "# Ej 3\n",
        "print(\"a es: {} y b es: {}\".format(a, b))"
      ],
      "metadata": {
        "id": "BbdurrEJ6y2O"
      },
      "execution_count": null,
      "outputs": []
    },
    {
      "cell_type": "markdown",
      "source": [
        "Aquí va un tutorial que cubre un poco mejor todo esto:\n",
        "- [Aprender más sobre f-strings](https://realpython.com/python-f-strings/)\n",
        "\n",
        "La documentación oficial es un poco difícil de entender, pero sirve como referencia:\n",
        "- [Doc. oficial de python para formato de strings](https://docs.python.org/3/library/string.html#format-specification-mini-language)\n"
      ],
      "metadata": {
        "id": "nvmQkP9o6Hyc"
      }
    },
    {
      "cell_type": "markdown",
      "source": [
        "#### Detallecitos opcionales"
      ],
      "metadata": {
        "id": "fEGgjwTZ_uwt"
      }
    },
    {
      "cell_type": "code",
      "source": [
        "# En realidad se puede evitar que print() genere una línea nueva cada vez:\n",
        "print(\"El primer número es: \", end=\"\")\n",
        "print(a, end=\"\")\n",
        "print(\". Y luego viene el segundo: \", end=\"\")\n",
        "print(b)"
      ],
      "metadata": {
        "id": "F2qa4F6v_yb5"
      },
      "execution_count": null,
      "outputs": []
    },
    {
      "cell_type": "code",
      "source": [
        "# También se puede hacer strings multi-líneas:\n",
        "print(\"Esta es la primera línea. \"\n",
        "      \"Esto lo ponemos en otra línea pero va junto.\"\n",
        "      f\"También combinamos un f-string con {a=}. Fin de línea.\\n\"\n",
        "      f\"Y cerramos con {c:.2f}\")\n",
        "\n",
        "# Nota: usamos la sintaxis especial {a=}"
      ],
      "metadata": {
        "id": "2ZsvEBQTA_lS"
      },
      "execution_count": null,
      "outputs": []
    },
    {
      "cell_type": "markdown",
      "source": [
        "## Listas y Mapas"
      ],
      "metadata": {
        "id": "FRwioLIN1r4j"
      }
    },
    {
      "cell_type": "markdown",
      "source": [
        "### Listas: simplemente, listas de cosas."
      ],
      "metadata": {
        "id": "PDj8YoUpEzw-"
      }
    },
    {
      "cell_type": "code",
      "source": [
        "lista = [\"a\", \"b\", \"c\", 1, 2]"
      ],
      "metadata": {
        "id": "AAnBxtNP2MJW"
      },
      "execution_count": null,
      "outputs": []
    },
    {
      "cell_type": "code",
      "source": [
        "lista.append(\"d\")\n",
        "\n",
        "print(lista)"
      ],
      "metadata": {
        "id": "KiqMSLru2WdA"
      },
      "execution_count": null,
      "outputs": []
    },
    {
      "cell_type": "code",
      "source": [
        "# El primer elemento es el 0:\n",
        "lista[0]"
      ],
      "metadata": {
        "id": "7EFX0NrFGpIf"
      },
      "execution_count": null,
      "outputs": []
    },
    {
      "cell_type": "code",
      "source": [
        "# Tamaño de una lista\n",
        "len(lista)"
      ],
      "metadata": {
        "id": "7f9VbxZPHsxG"
      },
      "execution_count": null,
      "outputs": []
    },
    {
      "cell_type": "markdown",
      "source": [
        "**Probar:** ¿Cómo obtener el último elemento de una lista?"
      ],
      "metadata": {
        "id": "486ngjUGIJvW"
      }
    },
    {
      "cell_type": "code",
      "source": [
        "# TODO: Mostrar el último elemento"
      ],
      "metadata": {
        "id": "vlaOIpCnJUrH"
      },
      "execution_count": null,
      "outputs": []
    },
    {
      "cell_type": "markdown",
      "source": [
        "Podemos combinar dos listas fácilmente:"
      ],
      "metadata": {
        "id": "jRN3lw1RTRcx"
      }
    },
    {
      "cell_type": "code",
      "source": [
        "a = [\"uno\", \"dos\", \"tres\"]\n",
        "\n",
        "b = [\"cuatro\", \"cinco\", \"seis\"]\n",
        "\n",
        "c = a + b\n",
        "print(c)"
      ],
      "metadata": {
        "id": "9VdhyaEHTViy"
      },
      "execution_count": null,
      "outputs": []
    },
    {
      "cell_type": "markdown",
      "source": [
        "**Pensar:** ¿Otra alternativa a `append()` para agregar un elemento a una lista?"
      ],
      "metadata": {
        "id": "N9qIghtsTmNb"
      }
    },
    {
      "cell_type": "code",
      "source": [
        "# TODO: Agregar el elemento \"siete\" a la lista, sin usar append()"
      ],
      "metadata": {
        "id": "J3FAjyaWTwK7"
      },
      "execution_count": null,
      "outputs": []
    },
    {
      "cell_type": "markdown",
      "source": [
        "Además, ya que `a + a + a` repite tres veces la lista, el operador de multiplicar `*` también funciona según esta lógica:"
      ],
      "metadata": {
        "id": "G8R6UzKo_EvM"
      }
    },
    {
      "cell_type": "code",
      "source": [
        "a = [\"uno\", \"dos\"] * 3\n",
        "\n",
        "print(a)"
      ],
      "metadata": {
        "id": "7Klaqsf9_Tna"
      },
      "execution_count": null,
      "outputs": []
    },
    {
      "cell_type": "markdown",
      "source": [
        "**Probar:** Dado un valor `a`, crear una lista con 100 elementos con el valor de `a`."
      ],
      "metadata": {
        "id": "Mm12aSzL_i0X"
      }
    },
    {
      "cell_type": "code",
      "source": [
        "# TODO: dado cualquier valor en \"a\", crear una lista con 50 valores repetidos\n",
        "a = 3\n",
        "\n",
        "b = [a, a, a] # 50 veces\n",
        "print(b)"
      ],
      "metadata": {
        "id": "IW5Ogboh_8_4"
      },
      "execution_count": null,
      "outputs": []
    },
    {
      "cell_type": "markdown",
      "source": [
        "### Slices"
      ],
      "metadata": {
        "id": "6lAnomQjIU0R"
      }
    },
    {
      "cell_type": "code",
      "source": [
        "# Sub-listas!\n",
        "print(lista[1:3])"
      ],
      "metadata": {
        "id": "DbW-pNUYHJ-A"
      },
      "execution_count": null,
      "outputs": []
    },
    {
      "cell_type": "markdown",
      "source": [
        "**Probar:** ¿cómo obtener todos los elementos menos el primero y el último?"
      ],
      "metadata": {
        "id": "PpgU-XI2HWGB"
      }
    },
    {
      "cell_type": "code",
      "source": [
        "# TODO: mostrar todos los elementos menos el primero y el último"
      ],
      "metadata": {
        "id": "6rz1LjdMJPjA"
      },
      "execution_count": null,
      "outputs": []
    },
    {
      "cell_type": "markdown",
      "source": [
        "**Probar**: ¿Qué sucede si usamos índices negativos?"
      ],
      "metadata": {
        "id": "-SBtDbKFJbvZ"
      }
    },
    {
      "cell_type": "code",
      "source": [
        "# TODO: probar índices negativos"
      ],
      "metadata": {
        "id": "nRBtZUX0JhZI"
      },
      "execution_count": null,
      "outputs": []
    },
    {
      "cell_type": "markdown",
      "source": [
        "**Probar:** Mostrar todos menos primero y último, sin usar `len()`"
      ],
      "metadata": {
        "id": "o5_7OEDiJvlc"
      }
    },
    {
      "cell_type": "code",
      "source": [
        "# TODO: de nuevo, mostrar todos los elementos menos el primero y el último"
      ],
      "metadata": {
        "id": "4F_ZF-OjJmo2"
      },
      "execution_count": null,
      "outputs": []
    },
    {
      "cell_type": "markdown",
      "source": [
        "### Recorrer una lista"
      ],
      "metadata": {
        "id": "PKsjeUX5IuaN"
      }
    },
    {
      "cell_type": "code",
      "source": [
        "for x in lista:\n",
        "  print(f\"Elemento: {x}\")"
      ],
      "metadata": {
        "id": "R_dB1EiIIyuS"
      },
      "execution_count": null,
      "outputs": []
    },
    {
      "cell_type": "markdown",
      "source": [
        "**Probar:** ¿Cómo mostrar la posición del elemento?"
      ],
      "metadata": {
        "id": "AUb3YjxXI9jc"
      }
    },
    {
      "cell_type": "code",
      "source": [
        "# TODO: Mostrar la posición de cada elemento"
      ],
      "metadata": {
        "id": "vsCuZiS_JKS0"
      },
      "execution_count": null,
      "outputs": []
    },
    {
      "cell_type": "markdown",
      "source": [
        "**Probar:** Mostrar sólo los elementos pares"
      ],
      "metadata": {
        "id": "U_RkwwIkKfdr"
      }
    },
    {
      "cell_type": "code",
      "source": [
        "# TODO: Mostrar sólo los elementos pares"
      ],
      "metadata": {
        "id": "pue8SMZYLep7"
      },
      "execution_count": null,
      "outputs": []
    },
    {
      "cell_type": "markdown",
      "source": [
        "### Formas prácticas de recorrer listas"
      ],
      "metadata": {
        "id": "mlYnxz8xLEx5"
      }
    },
    {
      "cell_type": "code",
      "source": [
        "# ¿Para qué sirve enumerate() ?\n",
        "for posicion, valor in enumerate(lista):\n",
        "  print(f\"{posicion=} {valor=}\")"
      ],
      "metadata": {
        "id": "DiMpzAMcLOBz"
      },
      "execution_count": null,
      "outputs": []
    },
    {
      "cell_type": "code",
      "source": [
        "# ¿Qué hace el 0:5:2?\n",
        "for x in lista[0:5:2]:\n",
        "  print(f\"{x=}\")\n",
        "\n",
        "# NOTA: probar también lista[::2]"
      ],
      "metadata": {
        "id": "YJonNTOeL-al"
      },
      "execution_count": null,
      "outputs": []
    },
    {
      "cell_type": "markdown",
      "source": [
        "## Operar con posiciones en la lista\n",
        "Ahora supongamos que queremos acceder al elemento en la mitad de la lista. Sin conocer el tamaño de la lista de antemano.\n",
        "\n",
        "¿Cómo lo harían?"
      ],
      "metadata": {
        "id": "D3qmVEh-2NCR"
      }
    },
    {
      "cell_type": "code",
      "source": [
        "# TODO: Intentar acceder al elemento en la mitad de la lista"
      ],
      "metadata": {
        "id": "zRG2dJXU2N-L"
      },
      "execution_count": null,
      "outputs": []
    },
    {
      "cell_type": "markdown",
      "source": [
        "El problema que tenemos es de **tipos de datos**.\n",
        "Necesitamos entender un poco mejor qué significa esto..."
      ],
      "metadata": {
        "id": "k50Ojwer2jSd"
      }
    },
    {
      "cell_type": "markdown",
      "source": [
        "## Tipos de Datos"
      ],
      "metadata": {
        "id": "lqzRTpWZ2tt6"
      }
    },
    {
      "cell_type": "markdown",
      "source": [
        "¿Es lo mismo escribir `2` que escribir `2.0` o `\"2\"` ?"
      ],
      "metadata": {
        "id": "T_CAuntu319E"
      }
    },
    {
      "cell_type": "code",
      "source": [
        "# enteros (int)\n",
        "a = 2\n",
        "type(a)"
      ],
      "metadata": {
        "id": "v4vxjE_K3j5s"
      },
      "execution_count": null,
      "outputs": []
    },
    {
      "cell_type": "code",
      "source": [
        "a = 2.0\n",
        "type(a)"
      ],
      "metadata": {
        "id": "hvC9NXgs3zQa"
      },
      "execution_count": null,
      "outputs": []
    },
    {
      "cell_type": "code",
      "source": [
        "a = \"2\"\n",
        "type(a)"
      ],
      "metadata": {
        "id": "ZHDbcsHmNPyl"
      },
      "execution_count": null,
      "outputs": []
    },
    {
      "cell_type": "markdown",
      "source": [
        "Ahora tenemos una pista para resolver el problema de tipo de datos...\n",
        "\n",
        "Claramente, posiciones del tipo `2.5` no tienen sentido en una lista.\n",
        "\n",
        "Por lo tanto, las posiciones sólo pueden ser de tipo `int`."
      ],
      "metadata": {
        "id": "i55QTkFgNUfF"
      }
    },
    {
      "cell_type": "code",
      "source": [
        "# Las posiciones sólo se pueden representar con enteros\n",
        "\n",
        "lista = [\"a\", \"b\", \"c\", \"d\", \"e\"]\n",
        "\n",
        "lista[3]  # ok\n",
        "\n",
        "# lista[3.0]  # not ok"
      ],
      "metadata": {
        "id": "6Hor2CSM4Fs0"
      },
      "execution_count": null,
      "outputs": []
    },
    {
      "cell_type": "markdown",
      "source": [
        "El problema, es que dividir un entero `int` da como resultado un `float`."
      ],
      "metadata": {
        "id": "p-SONYRb49Bo"
      }
    },
    {
      "cell_type": "code",
      "source": [
        "a = len(lista) / 2\n",
        "type(a)"
      ],
      "metadata": {
        "id": "AOTbryn55Iyl"
      },
      "execution_count": null,
      "outputs": []
    },
    {
      "cell_type": "code",
      "source": [
        "# Podemos convertir float -> int (cast)\n",
        "\n",
        "a = int(len(lista) / 2)\n",
        "type(a)"
      ],
      "metadata": {
        "id": "dhYmvqRr4bGj"
      },
      "execution_count": null,
      "outputs": []
    },
    {
      "cell_type": "markdown",
      "source": [
        "**Probar:** Acceder al elemento en la mitad de la lista."
      ],
      "metadata": {
        "id": "v2VScido5S_m"
      }
    },
    {
      "cell_type": "code",
      "source": [
        "# TODO: Arreglar este código para acceder al elemento en la mitad de la lista\n",
        "\n",
        "# lista[len(lista)/2]"
      ],
      "metadata": {
        "id": "CljNskdg4s6l"
      },
      "execution_count": null,
      "outputs": []
    },
    {
      "cell_type": "markdown",
      "source": [
        "### Otros tipos de datos"
      ],
      "metadata": {
        "id": "UsfMCwlV55Rw"
      }
    },
    {
      "cell_type": "code",
      "source": [
        "for a in [2, 2.0, \"2.0\", True]:\n",
        "  print(f\"{a} -> Tipo: {type(a)}\")\n"
      ],
      "metadata": {
        "id": "jpfi2D8c2w6y"
      },
      "execution_count": null,
      "outputs": []
    },
    {
      "cell_type": "markdown",
      "source": [
        "### ¿Es importante saber el tipo de dato?\n",
        "\n",
        "Sí, porque las operaciones funcionan distinto para cada tipo de dato!"
      ],
      "metadata": {
        "id": "oZaATpr27gPA"
      }
    },
    {
      "cell_type": "code",
      "source": [
        "# Operador + cuando usamos texto (str)\n",
        "print(\"1\" + \"1\" + \"1\")\n",
        "\n",
        "# Operador + cuando usamos enteros o float (int, float)\n",
        "print(1 + 1 + 1)\n",
        "\n",
        "# Si mezclamos int con algún float, el resultado es float\n",
        "print(1 + 1 + 1 + 0.0)\n",
        "\n",
        "# Operador + cuando usamos listas (list)\n",
        "print([1] + [1] + [1])"
      ],
      "metadata": {
        "id": "uUlUWWmQ7ukt"
      },
      "execution_count": null,
      "outputs": []
    },
    {
      "cell_type": "markdown",
      "source": [
        "En general, las operaciones mantienen el tipo de dato. Dividir un entero es una excepción a esta regla, que fue cambiada en python 3.\n",
        "\n",
        "Para emular el comportamiento de python 2, se introdujo el operador `//` (división entera truncada o \"floor division\", ver [pep 238](https://peps.python.org/pep-0238/)):\n"
      ],
      "metadata": {
        "id": "SH27pVBu-tnS"
      }
    },
    {
      "cell_type": "code",
      "source": [
        "a = len(lista) // 2\n",
        "type(a)"
      ],
      "metadata": {
        "id": "DU3wco_JIikz"
      },
      "execution_count": null,
      "outputs": []
    },
    {
      "cell_type": "code",
      "source": [
        "# Es decir, también podemos hacer:\n",
        "lista[len(lista) // 2]"
      ],
      "metadata": {
        "id": "D_H2-6dLJJyi"
      },
      "execution_count": null,
      "outputs": []
    },
    {
      "cell_type": "markdown",
      "source": [
        "Se puede convertir entre tipos de datos como hicimos anteriormente."
      ],
      "metadata": {
        "id": "oNnnCquP6SAO"
      }
    },
    {
      "cell_type": "code",
      "source": [
        "# Ej: str -> float\n",
        "\n",
        "float(\"2.0\") + 3"
      ],
      "metadata": {
        "id": "ww47Ttsl6hNj"
      },
      "execution_count": null,
      "outputs": []
    },
    {
      "cell_type": "code",
      "source": [
        "# Ej: float -> str\n",
        "\"Resultado: \" + str(2.0)"
      ],
      "metadata": {
        "id": "0Z50zsk78vmc"
      },
      "execution_count": null,
      "outputs": []
    },
    {
      "cell_type": "markdown",
      "source": [
        "### Mapas: Relaciones clave:valor\n",
        "\n",
        "Como hemos visto, en una lista no podemos tener posiciones que no sean de tipo `int`, y además todos los elementos tienen que estar consecutivos.\n",
        "\n",
        "Los mapas o diccionarios, permiten acceder a los elementos a través de una \"clave\" o `key` arbitraria, en vez de por posición en la lista."
      ],
      "metadata": {
        "id": "A2XNqPeONPxo"
      }
    },
    {
      "cell_type": "code",
      "source": [
        "mapa = {\"elemento_1\": 55, \"elemento_2\": 1000, \"elemento_3\": 2000}\n",
        "\n",
        "mapa[\"elemento_2\"]"
      ],
      "metadata": {
        "id": "yR4roKqEN9nq"
      },
      "execution_count": null,
      "outputs": []
    },
    {
      "cell_type": "code",
      "source": [
        "# Las claves pueden ser numéricas, los valores pueden ser cualquier cosa.\n",
        "mapa[5] = \"otro elemento\"\n",
        "mapa[2.5] = {\"otro diccionario\": \"anidado\"}\n",
        "\n",
        "mapa"
      ],
      "metadata": {
        "id": "oKxrm2B0OXyJ"
      },
      "execution_count": null,
      "outputs": []
    },
    {
      "cell_type": "markdown",
      "source": [
        "Como contrapartida, ahora **el concepto de orden se pierde**. Las claves del diccionario pueden tener cualquier orden."
      ],
      "metadata": {
        "id": "09Fc9fw1OzWQ"
      }
    },
    {
      "cell_type": "markdown",
      "source": [
        "Veamos un ejemplo más realista (?)"
      ],
      "metadata": {
        "id": "VqMG5pWBOg33"
      }
    },
    {
      "cell_type": "code",
      "source": [
        "notas = {\"Lisa\": 12, \"Bart\": 5, \"Martin\": 12, \"Milhouse\": 9, \"Allison\": 12, \"Sherri\": 7.5, \"Terri\": 7.5, \"Nelson\": 4, \"Jimbo\": 3}\n",
        "\n",
        "print(f\"La nota de Lisa es: {notas['Lisa']}\")"
      ],
      "metadata": {
        "id": "UfyyIEfba_gj"
      },
      "execution_count": null,
      "outputs": []
    },
    {
      "cell_type": "code",
      "source": [
        "# TODO: Completar\n",
        "\n",
        "for alumno in notas:\n",
        "  print(f\"La nota de {alumno} es: <completar>\")"
      ],
      "metadata": {
        "id": "AiRad5M2doNv"
      },
      "execution_count": null,
      "outputs": []
    },
    {
      "cell_type": "markdown",
      "source": [
        "**Probar:** Mostrar sólo los alumnos reprobados"
      ],
      "metadata": {
        "id": "W6Mmoql_eZOl"
      }
    },
    {
      "cell_type": "code",
      "source": [
        "# TODO: Mostrar sólo alumnos reprobados"
      ],
      "metadata": {
        "id": "sIpG0zHpelg6"
      },
      "execution_count": null,
      "outputs": []
    },
    {
      "cell_type": "code",
      "source": [
        "# Para recorrer clave/valor usar dict.items()\n",
        "for alumno, nota in notas.items():\n",
        "  print(f\"La nota de {alumno} es: {nota}\")"
      ],
      "metadata": {
        "id": "o13ID3ead1w6"
      },
      "execution_count": null,
      "outputs": []
    },
    {
      "cell_type": "markdown",
      "source": [
        "Detalle:\n",
        "\n",
        "A partir de python 3.6+, si uno recorre un diccionario, se preserva el orden en el que las claves fueron agregadas, pero no es algo que se recomiende dar por garantizado, ya que es un [detalle de implementación](https://docs.python.org/3.6/whatsnew/3.6.html#new-dict-implementation). Para eso, existe el [OrderedDict](https://docs.python.org/3/library/collections.html#collections.OrderedDict)."
      ],
      "metadata": {
        "id": "NhldOnkJRTks"
      }
    },
    {
      "cell_type": "markdown",
      "source": [
        "### List comprehensions: atajos para crear listas"
      ],
      "metadata": {
        "id": "vGSFAmmafZ5n"
      }
    },
    {
      "cell_type": "code",
      "source": [
        "# Ejemplo: convertir diccionario en lista\n",
        "nombres = [alumno for alumno in notas]\n",
        "print(nombres)"
      ],
      "metadata": {
        "id": "AHzsxKlUfm_1"
      },
      "execution_count": null,
      "outputs": []
    },
    {
      "cell_type": "markdown",
      "source": [
        "**Probar:** En vez de los nombres, obtener sólo una lista de notas"
      ],
      "metadata": {
        "id": "PcgcaaC0f9gV"
      }
    },
    {
      "cell_type": "code",
      "source": [
        "# TODO: obtener sólo la lista de notas"
      ],
      "metadata": {
        "id": "LA3AGQmof0QN"
      },
      "execution_count": null,
      "outputs": []
    },
    {
      "cell_type": "markdown",
      "source": [
        "La sintaxis de list-comprehensions permite poner condicionales dentro!"
      ],
      "metadata": {
        "id": "lcvPW6YggKQN"
      }
    },
    {
      "cell_type": "code",
      "source": [
        "solo_lisa = [alumno for alumno in notas if alumno == \"Lisa\"]\n",
        "\n",
        "solo_lisa"
      ],
      "metadata": {
        "id": "yBIH7-A4gJ3t"
      },
      "execution_count": null,
      "outputs": []
    },
    {
      "cell_type": "markdown",
      "source": [
        "**Probar:** Obtener sólo la lista de nombres aprobados usando list-comprehensions"
      ],
      "metadata": {
        "id": "tQh5m2fOgnBC"
      }
    },
    {
      "cell_type": "code",
      "source": [
        "# TODO: modificar para agregar sólo si la nota >= 6\n",
        "aprobados = [alumno for alumno in notas]\n",
        "\n",
        "aprobados"
      ],
      "metadata": {
        "id": "QP3AXgiug0ew"
      },
      "execution_count": null,
      "outputs": []
    },
    {
      "cell_type": "markdown",
      "source": [
        "## Funciones"
      ],
      "metadata": {
        "id": "tidEB08s15ih"
      }
    },
    {
      "cell_type": "markdown",
      "source": [
        "Las funciones sirven para poder reutilizar el código, organizándolo mucho mejor en módulos con una funcionalidad bien definida."
      ],
      "metadata": {
        "id": "G1CNxoaTlLYp"
      }
    },
    {
      "cell_type": "code",
      "source": [
        "def filtrar_alumnos(map_alumno_nota):\n",
        "  aprobados = []\n",
        "  reprobados = []\n",
        "  for alumno, nota in map_alumno_nota.items():\n",
        "    if nota >= 6:\n",
        "      aprobados.append(alumno)\n",
        "    else:\n",
        "      reprobados.append(alumno)\n",
        "  return aprobados, reprobados\n",
        "\n",
        "\n",
        "aprobados, reprobados = filtrar_alumnos(notas)"
      ],
      "metadata": {
        "id": "cZWZVcDBlKv_"
      },
      "execution_count": null,
      "outputs": []
    },
    {
      "cell_type": "code",
      "source": [
        "aprobados"
      ],
      "metadata": {
        "id": "49gfZFlApcCy"
      },
      "execution_count": null,
      "outputs": []
    },
    {
      "cell_type": "code",
      "source": [
        "reprobados"
      ],
      "metadata": {
        "id": "qPsmT0RcpdHf"
      },
      "execution_count": null,
      "outputs": []
    },
    {
      "cell_type": "markdown",
      "source": [
        "### Funciones anónimas (lambda functions)"
      ],
      "metadata": {
        "id": "RsXFBzelpuQS"
      }
    },
    {
      "cell_type": "code",
      "source": [
        "# Las lambdas son funciones que retornan en una sóla línea\n",
        "\n",
        "\n",
        "# En vez de crear toda la función:\n",
        "def criterio_aprobado(nota):\n",
        "  return nota > 6\n",
        "\n",
        "# Equivalente:\n",
        "criterio_aprobado: lambda nota: nota > 6"
      ],
      "metadata": {
        "id": "3_F-Q4psp1rR"
      },
      "execution_count": null,
      "outputs": []
    },
    {
      "cell_type": "code",
      "source": [
        "for alumno, nota in notas.items():\n",
        "  aprobado = criterio_aprobado(nota)\n",
        "  print(f\"{alumno} -> Aprobado: {aprobado}\")"
      ],
      "metadata": {
        "id": "SlPfRoairOUG"
      },
      "execution_count": null,
      "outputs": []
    },
    {
      "cell_type": "markdown",
      "source": [
        "¿Por qué se llaman \"anónimas\"?\n",
        "Porque no es necesario darles un nombre al definirlas. Se pueden pasar como argumentos"
      ],
      "metadata": {
        "id": "xbornnV7Ba9n"
      }
    },
    {
      "cell_type": "code",
      "source": [
        "def mostrar_alumnos(map_alumno_nota, mensaje):\n",
        "  for alumno, nota in map_alumno_nota.items():\n",
        "    print(mensaje(alumno, nota))\n",
        "\n",
        "\n",
        "# Ejemplo:\n",
        "mostrar_alumnos(notas, lambda alumno, nota: f\"La nota de {alumno} es {nota}\")"
      ],
      "metadata": {
        "id": "v6FWuYVlBoeM"
      },
      "execution_count": null,
      "outputs": []
    },
    {
      "cell_type": "code",
      "source": [
        "# Podemos cambiar el mensaje fácilmente\n",
        "mostrar_alumnos(notas, lambda alumno, nota: f\"Alumno: {alumno}, aprobado: {nota > 6}\")"
      ],
      "metadata": {
        "id": "uIDjr6AbB0h0"
      },
      "execution_count": null,
      "outputs": []
    },
    {
      "cell_type": "code",
      "source": [
        "# Si nos sentimos inspirados...\n",
        "mostrar_alumnos(notas,\n",
        "                lambda alumno, nota: f\"Alumno: {alumno}, aprobado: {'si' if nota > 6 else 'no'}\")"
      ],
      "metadata": {
        "id": "uY2c4RGUFp6W"
      },
      "execution_count": null,
      "outputs": []
    },
    {
      "cell_type": "code",
      "source": [],
      "metadata": {
        "id": "GCchvoxZGGSy"
      },
      "execution_count": null,
      "outputs": []
    }
  ]
}